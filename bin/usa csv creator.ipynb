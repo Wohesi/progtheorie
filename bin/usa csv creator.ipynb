{
 "cells": [
  {
   "cell_type": "code",
   "execution_count": 1,
   "metadata": {
    "collapsed": true
   },
   "outputs": [],
   "source": [
    "import csv"
   ]
  },
  {
   "cell_type": "code",
   "execution_count": 6,
   "metadata": {
    "collapsed": true
   },
   "outputs": [],
   "source": [
    "with open(\"neighbors-states.csv\") as csvfile:\n",
    "    n = csv.reader(csvfile)\n",
    "    neighbours = [pair for pair in n][1:]"
   ]
  },
  {
   "cell_type": "code",
   "execution_count": 8,
   "metadata": {
    "collapsed": false
   },
   "outputs": [],
   "source": [
    "with open(\"states.csv\") as csvfile:\n",
    "    s = csv.reader(csvfile)\n",
    "    states = {state[0] : state[1] for state in list(s)[1:]}"
   ]
  },
  {
   "cell_type": "code",
   "execution_count": 14,
   "metadata": {
    "collapsed": false
   },
   "outputs": [
    {
     "name": "stdout",
     "output_type": "stream",
     "text": [
      "[('Alaska', 'Washington'), ('Alabama', 'Florida'), ('Alabama', 'Georgia'), ('Alabama', 'Mississippi'), ('Alabama', 'Tennessee'), ('Arkansas', 'Louisiana'), ('Arkansas', 'Missouri'), ('Arkansas', 'Mississippi'), ('Arkansas', 'Oklahoma'), ('Arkansas', 'Tennessee')]\n"
     ]
    }
   ],
   "source": [
    "newneighbours = []\n",
    "for p in neighbours:\n",
    "    newneighbours.append((states[p[0]], states[p[1]]))\n",
    "print(newneighbours[0:10])"
   ]
  },
  {
   "cell_type": "code",
   "execution_count": 17,
   "metadata": {
    "collapsed": false
   },
   "outputs": [],
   "source": [
    "with open('USACompleteDataset','w') as out:\n",
    "    writer = csv.writer(out)\n",
    "    writer.writerow(('stateLabel', 'borderLabel'))\n",
    "    for i in newneighbours:\n",
    "        writer.writerow(i)"
   ]
  }
 ],
 "metadata": {
  "anaconda-cloud": {},
  "kernelspec": {
   "display_name": "Python [conda root]",
   "language": "python",
   "name": "conda-root-py"
  },
  "language_info": {
   "codemirror_mode": {
    "name": "ipython",
    "version": 3
   },
   "file_extension": ".py",
   "mimetype": "text/x-python",
   "name": "python",
   "nbconvert_exporter": "python",
   "pygments_lexer": "ipython3",
   "version": "3.5.2"
  }
 },
 "nbformat": 4,
 "nbformat_minor": 1
}
