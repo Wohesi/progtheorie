{
 "cells": [
  {
   "cell_type": "markdown",
   "metadata": {
    "nbpresent": {
     "id": "9abc2fa3-20b0-4b5d-978d-60386e06d185"
    },
    "slideshow": {
     "slide_type": "slide"
    }
   },
   "source": [
    "## Our Problem:\n",
    "----\n",
    "Design a frequency distribution for Ukraine, USA, Russia and China..\n",
    "   * Rephrased 'frequency distribution' for 'colour pallette'.\n"
   ]
  },
  {
   "cell_type": "markdown",
   "metadata": {
    "slideshow": {
     "slide_type": "slide"
    }
   },
   "source": [
    "#### Possible solutions. \n",
    "----\n",
    "\n",
    "* \"four color theorem”\n",
    "\n",
    "* ‘Graph Coloring’ \n",
    "    * Greedy algorithm\n",
    "    * Dsatur algorithm"
   ]
  },
  {
   "cell_type": "markdown",
   "metadata": {
    "slideshow": {
     "slide_type": "slide"
    }
   },
   "source": [
    "![Graphcolouring](https://i.imgur.com/sulDxA0.png)\n",
    "\n",
    "Source: A Guide to Graph Colouring - Algorithms and Applications by R.M.R. Lewis"
   ]
  },
  {
   "cell_type": "markdown",
   "metadata": {
    "nbpresent": {
     "id": "06265742-a8f5-404d-a35f-9202742400a6"
    },
    "slideshow": {
     "slide_type": "slide"
    }
   },
   "source": [
    "## Collecting data\n",
    "----"
   ]
  },
  {
   "cell_type": "code",
   "execution_count": 6,
   "metadata": {
    "nbpresent": {
     "id": "3022bdae-2440-4a85-87e7-adb72874d635"
    },
    "slideshow": {
     "slide_type": "slide"
    }
   },
   "outputs": [
    {
     "ename": "ModuleNotFoundError",
     "evalue": "No module named 'SPARQLWrapper'",
     "output_type": "error",
     "traceback": [
      "\u001b[1;31m-----------------------------------------------------------------------\u001b[0m",
      "\u001b[1;31mModuleNotFoundError\u001b[0m                   Traceback (most recent call last)",
      "\u001b[1;32m<ipython-input-6-11c89764c522>\u001b[0m in \u001b[0;36m<module>\u001b[1;34m()\u001b[0m\n\u001b[0;32m      4\u001b[0m \u001b[1;31m#https://rdflib.github.io/sparqlwrapper/\u001b[0m\u001b[1;33m\u001b[0m\u001b[1;33m\u001b[0m\u001b[0m\n\u001b[0;32m      5\u001b[0m \u001b[1;33m\u001b[0m\u001b[0m\n\u001b[1;32m----> 6\u001b[1;33m \u001b[1;32mfrom\u001b[0m \u001b[0mSPARQLWrapper\u001b[0m \u001b[1;32mimport\u001b[0m \u001b[0mSPARQLWrapper\u001b[0m\u001b[1;33m,\u001b[0m \u001b[0mJSON\u001b[0m\u001b[1;33m\u001b[0m\u001b[0m\n\u001b[0m\u001b[0;32m      7\u001b[0m \u001b[1;33m\u001b[0m\u001b[0m\n\u001b[0;32m      8\u001b[0m \u001b[0msparql\u001b[0m \u001b[1;33m=\u001b[0m \u001b[0mSPARQLWrapper\u001b[0m\u001b[1;33m(\u001b[0m\u001b[1;34m\"https://query.wikidata.org/sparql\"\u001b[0m\u001b[1;33m)\u001b[0m\u001b[1;33m\u001b[0m\u001b[0m\n",
      "\u001b[1;31mModuleNotFoundError\u001b[0m: No module named 'SPARQLWrapper'"
     ]
    }
   ],
   "source": [
    "# Loading the provinces of ukraine from wikidata database.\n",
    "\n",
    "#pip install sparqlwrapper\n",
    "#https://rdflib.github.io/sparqlwrapper/\n",
    "\n",
    "from SPARQLWrapper import SPARQLWrapper, JSON\n",
    "\n",
    "sparql = SPARQLWrapper(\"https://query.wikidata.org/sparql\")\n",
    "\n",
    "sparql.setQuery(\"\"\"SELECT ?oblastLabel ?borderLabel WHERE {\n",
    "  ?oblast wdt:P31 wd:Q3348196.\n",
    "  ?border wdt:P47 ?oblast.\n",
    " \n",
    "  SERVICE wikibase:label { bd:serviceParam wikibase:language \"[AUTO_LANGUAGE],en\". }\n",
    "}\"\"\")\n",
    "\n",
    "sparql.setReturnFormat(JSON)\n",
    "results = sparql.query().convert()\n",
    "\n",
    "for result in results[\"results\"][\"bindings\"]:\n",
    "    # Bordering Oblasts\n",
    "    nb_oblasts = result['oblastLabel']['value'], result['borderLabel']['value']\n",
    "    print(nb_oblasts)"
   ]
  },
  {
   "cell_type": "code",
   "execution_count": 7,
   "metadata": {
    "slideshow": {
     "slide_type": "skip"
    }
   },
   "outputs": [
    {
     "ename": "ModuleNotFoundError",
     "evalue": "No module named 'SPARQLWrapper'",
     "output_type": "error",
     "traceback": [
      "\u001b[1;31m-----------------------------------------------------------------------\u001b[0m",
      "\u001b[1;31mModuleNotFoundError\u001b[0m                   Traceback (most recent call last)",
      "\u001b[1;32m<ipython-input-7-ee75afa607b1>\u001b[0m in \u001b[0;36m<module>\u001b[1;34m()\u001b[0m\n\u001b[0;32m      2\u001b[0m \u001b[1;31m#https://rdflib.github.io/sparqlwrapper/\u001b[0m\u001b[1;33m\u001b[0m\u001b[1;33m\u001b[0m\u001b[0m\n\u001b[0;32m      3\u001b[0m \u001b[1;33m\u001b[0m\u001b[0m\n\u001b[1;32m----> 4\u001b[1;33m \u001b[1;32mfrom\u001b[0m \u001b[0mSPARQLWrapper\u001b[0m \u001b[1;32mimport\u001b[0m \u001b[0mSPARQLWrapper\u001b[0m\u001b[1;33m,\u001b[0m \u001b[0mJSON\u001b[0m\u001b[1;33m\u001b[0m\u001b[0m\n\u001b[0m\u001b[0;32m      5\u001b[0m \u001b[1;33m\u001b[0m\u001b[0m\n\u001b[0;32m      6\u001b[0m \u001b[0msparql\u001b[0m \u001b[1;33m=\u001b[0m \u001b[0mSPARQLWrapper\u001b[0m\u001b[1;33m(\u001b[0m\u001b[1;34m\"https://query.wikidata.org/sparql\"\u001b[0m\u001b[1;33m)\u001b[0m\u001b[1;33m\u001b[0m\u001b[0m\n",
      "\u001b[1;31mModuleNotFoundError\u001b[0m: No module named 'SPARQLWrapper'"
     ]
    }
   ],
   "source": [
    "#pip install sparqlwrapper\n",
    "#https://rdflib.github.io/sparqlwrapper/\n",
    "\n",
    "from SPARQLWrapper import SPARQLWrapper, JSON\n",
    "\n",
    "sparql = SPARQLWrapper(\"https://query.wikidata.org/sparql\")\n",
    "\n",
    "sparql.setQuery(\"\"\"SELECT ?oblastLabel ?borderLabel WHERE {\n",
    "  ?oblast wdt:P31 wd:Q3348196.\n",
    "  ?border wdt:P47 ?oblast.\n",
    " \n",
    "  SERVICE wikibase:label { bd:serviceParam wikibase:language \"[AUTO_LANGUAGE],en\". }\n",
    "}\"\"\")\n",
    "\n",
    "sparql.setReturnFormat(JSON)\n",
    "results = sparql.query().convert()\n",
    "\n",
    "borders = []\n",
    "oblasts = []\n",
    "for result in results[\"results\"][\"bindings\"]:\n",
    "    # Bordering Oblasts\n",
    "    nb_oblasts = result['oblastLabel']['value'], result['borderLabel']['value']\n",
    "    ua_oblasts = result['oblastLabel']['value']\n",
    "    \n",
    "    borders.append(nb_oblasts)\n",
    "    oblasts.append(ua_oblasts)\n",
    "    \n",
    "#print borders\n",
    "states = list(set(oblasts))\n",
    "print (states)\n"
   ]
  },
  {
   "cell_type": "code",
   "execution_count": 8,
   "metadata": {
    "slideshow": {
     "slide_type": "slide"
    }
   },
   "outputs": [
    {
     "ename": "NameError",
     "evalue": "name 'nx' is not defined",
     "output_type": "error",
     "traceback": [
      "\u001b[1;31m-----------------------------------------------------------------------\u001b[0m",
      "\u001b[1;31mNameError\u001b[0m                             Traceback (most recent call last)",
      "\u001b[1;32m<ipython-input-8-d55a2542bb28>\u001b[0m in \u001b[0;36m<module>\u001b[1;34m()\u001b[0m\n\u001b[1;32m----> 1\u001b[1;33m \u001b[0mUA\u001b[0m \u001b[1;33m=\u001b[0m \u001b[0mnx\u001b[0m\u001b[1;33m.\u001b[0m\u001b[0mGraph\u001b[0m\u001b[1;33m(\u001b[0m\u001b[1;33m)\u001b[0m\u001b[1;33m\u001b[0m\u001b[0m\n\u001b[0m\u001b[0;32m      2\u001b[0m \u001b[0mUA\u001b[0m\u001b[1;33m.\u001b[0m\u001b[0madd_nodes_from\u001b[0m\u001b[1;33m(\u001b[0m\u001b[0mstates\u001b[0m\u001b[1;33m,\u001b[0m \u001b[0mfreq\u001b[0m\u001b[1;33m=\u001b[0m\u001b[1;32mNone\u001b[0m\u001b[1;33m)\u001b[0m\u001b[1;33m\u001b[0m\u001b[0m\n\u001b[0;32m      3\u001b[0m \u001b[0mUA\u001b[0m\u001b[1;33m.\u001b[0m\u001b[0madd_edges_from\u001b[0m\u001b[1;33m(\u001b[0m\u001b[0mborders\u001b[0m\u001b[1;33m)\u001b[0m\u001b[1;33m\u001b[0m\u001b[0m\n\u001b[0;32m      4\u001b[0m \u001b[1;33m\u001b[0m\u001b[0m\n\u001b[0;32m      5\u001b[0m \u001b[0mnx\u001b[0m\u001b[1;33m.\u001b[0m\u001b[0mspring_layout\u001b[0m\u001b[1;33m(\u001b[0m\u001b[0mUA\u001b[0m\u001b[1;33m)\u001b[0m\u001b[1;33m\u001b[0m\u001b[0m\n",
      "\u001b[1;31mNameError\u001b[0m: name 'nx' is not defined"
     ]
    }
   ],
   "source": [
    "UA = nx.Graph()\n",
    "UA.add_nodes_from(states, freq=None)\n",
    "UA.add_edges_from(borders)\n",
    "\n",
    "nx.spring_layout(UA)\n",
    "\n",
    "plt.figure(figsize=(15,15))\n",
    "\n",
    "pos = nx.spring_layout(UA)\n",
    "nx.draw_networkx_nodes(UA, pos, \n",
    "                        nodelist=UA.nodes(),\n",
    "                        node_color=\"yellow\",\n",
    "                        alpha=0.4)\n",
    "nx.draw_networkx_labels(UA, pos, \n",
    "                        nodelist=UA.nodes(), \n",
    "                        font_size=14)\n",
    "nx.draw_networkx_edges(UA, pos, \n",
    "                        edgelist=UA.edges(),\n",
    "                        edge_color=\"grey\")\n",
    "plt.axis('off')"
   ]
  },
  {
   "cell_type": "code",
   "execution_count": 9,
   "metadata": {
    "slideshow": {
     "slide_type": "slide"
    }
   },
   "outputs": [
    {
     "ename": "NameError",
     "evalue": "name 'plt' is not defined",
     "output_type": "error",
     "traceback": [
      "\u001b[1;31m-----------------------------------------------------------------------\u001b[0m",
      "\u001b[1;31mNameError\u001b[0m                             Traceback (most recent call last)",
      "\u001b[1;32m<ipython-input-9-c4e69632d98a>\u001b[0m in \u001b[0;36m<module>\u001b[1;34m()\u001b[0m\n\u001b[1;32m----> 1\u001b[1;33m \u001b[0mplt\u001b[0m\u001b[1;33m.\u001b[0m\u001b[0mshow\u001b[0m\u001b[1;33m(\u001b[0m\u001b[1;33m)\u001b[0m\u001b[1;33m\u001b[0m\u001b[0m\n\u001b[0m",
      "\u001b[1;31mNameError\u001b[0m: name 'plt' is not defined"
     ]
    }
   ],
   "source": [
    "plt.show()"
   ]
  },
  {
   "cell_type": "markdown",
   "metadata": {
    "nbpresent": {
     "id": "c7b786a5-c90b-4e27-b6ae-d66b9feff56f"
    },
    "slideshow": {
     "slide_type": "slide"
    }
   },
   "source": [
    "# USA data & Greedy Algorithm\n",
    "\n",
    "De data van de Verenigde Staten komt van https://github.com/ubikuity/List-of-neighboring-states-for-each-US-state"
   ]
  },
  {
   "cell_type": "code",
   "execution_count": 10,
   "metadata": {
    "nbpresent": {
     "id": "98549bc2-80c8-4ab3-9179-a9c7fff71010"
    },
    "slideshow": {
     "slide_type": "slide"
    }
   },
   "outputs": [
    {
     "ename": "FileNotFoundError",
     "evalue": "[Errno 2] No such file or directory: 'neighbors-states.csv'",
     "output_type": "error",
     "traceback": [
      "\u001b[1;31m-----------------------------------------------------------------------\u001b[0m",
      "\u001b[1;31mFileNotFoundError\u001b[0m                     Traceback (most recent call last)",
      "\u001b[1;32m<ipython-input-10-afe7f2fd944d>\u001b[0m in \u001b[0;36m<module>\u001b[1;34m()\u001b[0m\n\u001b[0;32m      1\u001b[0m \u001b[1;32mimport\u001b[0m \u001b[0mcsv\u001b[0m\u001b[1;33m\u001b[0m\u001b[0m\n\u001b[0;32m      2\u001b[0m \u001b[1;33m\u001b[0m\u001b[0m\n\u001b[1;32m----> 3\u001b[1;33m \u001b[1;32mwith\u001b[0m \u001b[0mopen\u001b[0m\u001b[1;33m(\u001b[0m\u001b[1;34m\"neighbors-states.csv\"\u001b[0m\u001b[1;33m)\u001b[0m \u001b[1;32mas\u001b[0m \u001b[0mcsvfile\u001b[0m\u001b[1;33m:\u001b[0m\u001b[1;33m\u001b[0m\u001b[0m\n\u001b[0m\u001b[0;32m      4\u001b[0m     \u001b[0mneighbours\u001b[0m \u001b[1;33m=\u001b[0m \u001b[0mcsv\u001b[0m\u001b[1;33m.\u001b[0m\u001b[0mreader\u001b[0m\u001b[1;33m(\u001b[0m\u001b[0mcsvfile\u001b[0m\u001b[1;33m)\u001b[0m\u001b[1;33m\u001b[0m\u001b[0m\n\u001b[0;32m      5\u001b[0m     \u001b[0mneighbourpaircodes\u001b[0m \u001b[1;33m=\u001b[0m \u001b[1;33m[\u001b[0m\u001b[0mpair\u001b[0m \u001b[1;32mfor\u001b[0m \u001b[0mpair\u001b[0m \u001b[1;32min\u001b[0m \u001b[0mneighbours\u001b[0m\u001b[1;33m]\u001b[0m\u001b[1;33m[\u001b[0m\u001b[1;36m1\u001b[0m\u001b[1;33m:\u001b[0m\u001b[1;33m]\u001b[0m\u001b[1;33m\u001b[0m\u001b[0m\n",
      "\u001b[1;31mFileNotFoundError\u001b[0m: [Errno 2] No such file or directory: 'neighbors-states.csv'"
     ]
    }
   ],
   "source": [
    "import csv\n",
    "\n",
    "with open(\"neighbors-states.csv\") as csvfile:\n",
    "    neighbours = csv.reader(csvfile)    \n",
    "    neighbourpaircodes = [pair for pair in neighbours][1:]\n",
    "    \n",
    "with open(\"states.csv\") as csvfile:\n",
    "    s = csv.reader(csvfile)\n",
    "    statenames = {state[0]: state[1] for state in list(s)[1:]}\n",
    "    \n",
    "neighbourpairs = [(statenames[i],statenames[j]) for i,j in neighbourpaircodes]"
   ]
  },
  {
   "cell_type": "code",
   "execution_count": 11,
   "metadata": {
    "nbpresent": {
     "id": "6fe4eb57-618f-4ec3-9946-c58755618772"
    },
    "slideshow": {
     "slide_type": "slide"
    }
   },
   "outputs": [
    {
     "ename": "NameError",
     "evalue": "name 'statenames' is not defined",
     "output_type": "error",
     "traceback": [
      "\u001b[1;31m-----------------------------------------------------------------------\u001b[0m",
      "\u001b[1;31mNameError\u001b[0m                             Traceback (most recent call last)",
      "\u001b[1;32m<ipython-input-11-4b00646b11b5>\u001b[0m in \u001b[0;36m<module>\u001b[1;34m()\u001b[0m\n\u001b[0;32m      3\u001b[0m \u001b[1;33m\u001b[0m\u001b[0m\n\u001b[0;32m      4\u001b[0m \u001b[0mUSA\u001b[0m \u001b[1;33m=\u001b[0m \u001b[0mnx\u001b[0m\u001b[1;33m.\u001b[0m\u001b[0mGraph\u001b[0m\u001b[1;33m(\u001b[0m\u001b[1;33m)\u001b[0m\u001b[1;33m\u001b[0m\u001b[0m\n\u001b[1;32m----> 5\u001b[1;33m \u001b[0mUSA\u001b[0m\u001b[1;33m.\u001b[0m\u001b[0madd_nodes_from\u001b[0m\u001b[1;33m(\u001b[0m\u001b[0mstatenames\u001b[0m\u001b[1;33m.\u001b[0m\u001b[0mvalues\u001b[0m\u001b[1;33m(\u001b[0m\u001b[1;33m)\u001b[0m\u001b[1;33m,\u001b[0m \u001b[0mfreq\u001b[0m\u001b[1;33m=\u001b[0m\u001b[1;32mNone\u001b[0m\u001b[1;33m)\u001b[0m\u001b[1;33m\u001b[0m\u001b[0m\n\u001b[0m\u001b[0;32m      6\u001b[0m \u001b[0mUSA\u001b[0m\u001b[1;33m.\u001b[0m\u001b[0madd_edges_from\u001b[0m\u001b[1;33m(\u001b[0m\u001b[0mneighbourpairs\u001b[0m\u001b[1;33m)\u001b[0m\u001b[1;33m\u001b[0m\u001b[0m\n\u001b[0;32m      7\u001b[0m \u001b[1;33m\u001b[0m\u001b[0m\n",
      "\u001b[1;31mNameError\u001b[0m: name 'statenames' is not defined"
     ]
    }
   ],
   "source": [
    "import networkx as nx\n",
    "import matplotlib.pyplot as plt\n",
    "\n",
    "USA = nx.Graph()\n",
    "USA.add_nodes_from(statenames.values(), freq=None)\n",
    "USA.add_edges_from(neighbourpairs)\n",
    "\n",
    "nx.spring_layout(USA)\n",
    "\n",
    "plt.figure(figsize=(15,15))\n",
    "\n",
    "pos = nx.spring_layout(USA)\n",
    "nx.draw_networkx_nodes(USA, pos, \n",
    "                        nodelist=USA.nodes(),\n",
    "                        node_color=\"yellow\",\n",
    "                        alpha=0.4)\n",
    "nx.draw_networkx_labels(USA, pos, \n",
    "                        nodelist=USA.nodes(), \n",
    "                        font_size=14)\n",
    "nx.draw_networkx_edges(USA, pos, \n",
    "                        edgelist=USA.edges(),\n",
    "                        edge_color=\"grey\")\n",
    "plt.axis('off')"
   ]
  },
  {
   "cell_type": "code",
   "execution_count": null,
   "metadata": {
    "slideshow": {
     "slide_type": "slide"
    }
   },
   "outputs": [],
   "source": [
    "plt.show()"
   ]
  },
  {
   "cell_type": "code",
   "execution_count": null,
   "metadata": {
    "collapsed": true,
    "nbpresent": {
     "id": "d195186e-ca36-49b7-9fa9-010a05c8db26"
    },
    "slideshow": {
     "slide_type": "slide"
    }
   },
   "outputs": [],
   "source": [
    "def pairCheck(graph, node1, node2):\n",
    "    '''\n",
    "    Returns True if both nodes don't share a radio frequency.\n",
    "    '''\n",
    "    if graph.node[node1]['freq'] is not None and graph.node[node2]['freq'] is not None and graph.node[node1]['freq'] == graph.node[node2]['freq']:\n",
    "        return False\n",
    "    return True"
   ]
  },
  {
   "cell_type": "code",
   "execution_count": 12,
   "metadata": {
    "collapsed": true,
    "nbpresent": {
     "id": "3a8a9353-3d3a-41ea-955d-d38de9da71e4"
    },
    "slideshow": {
     "slide_type": "slide"
    }
   },
   "outputs": [],
   "source": [
    "def neighborCheck(graph, node):\n",
    "    '''\n",
    "    Returns True if node doens't share a frequency with any of its neighbours.\n",
    "    '''\n",
    "    for neighbor in nx.all_neighbors(graph, node):\n",
    "        if not pairCheck(graph, node, neighbor):\n",
    "            return False\n",
    "    return True"
   ]
  },
  {
   "cell_type": "code",
   "execution_count": 13,
   "metadata": {
    "collapsed": true,
    "nbpresent": {
     "id": "0e2dfadd-8466-4eae-a30b-100ba98aaa78"
    },
    "slideshow": {
     "slide_type": "slide"
    }
   },
   "outputs": [],
   "source": [
    "def graphCheck(graph):\n",
    "    '''\n",
    "    Returns True if all nodes don't share a frequency with any of their neighbours.\n",
    "    '''\n",
    "    for node in graph.nodes():\n",
    "        if not neighborCheck(graph, node):\n",
    "            return False\n",
    "        \n",
    "    if None in nx.get_node_attributes(graph, 'freq').values():\n",
    "        return False\n",
    "    \n",
    "    return True"
   ]
  },
  {
   "cell_type": "code",
   "execution_count": 14,
   "metadata": {
    "collapsed": true,
    "nbpresent": {
     "id": "99ca109e-a5d1-4769-b9fa-1eac07801579"
    },
    "slideshow": {
     "slide_type": "slide"
    }
   },
   "outputs": [],
   "source": [
    "def greedyColor(graph):\n",
    "    '''\n",
    "    '''\n",
    "    for n in graph.nodes():\n",
    "        graph.node[n]['freq'] = 1\n",
    "        while neighborCheck(graph, n) == False:\n",
    "            graph.node[n]['freq'] += 1"
   ]
  },
  {
   "cell_type": "code",
   "execution_count": 15,
   "metadata": {
    "nbpresent": {
     "id": "df1cec97-e18a-4438-a823-519afbd9c72e"
    },
    "slideshow": {
     "slide_type": "slide"
    }
   },
   "outputs": [
    {
     "name": "stdout",
     "output_type": "stream",
     "text": [
      "True\n"
     ]
    },
    {
     "data": {
      "text/plain": [
       "{}"
      ]
     },
     "execution_count": 15,
     "metadata": {},
     "output_type": "execute_result"
    }
   ],
   "source": [
    "greedyColor(USA)\n",
    "print(graphCheck(USA))\n",
    "nx.get_node_attributes(USA, 'freq')"
   ]
  },
  {
   "cell_type": "markdown",
   "metadata": {
    "collapsed": true,
    "slideshow": {
     "slide_type": "slide"
    }
   },
   "source": [
    "# Questions?"
   ]
  },
  {
   "cell_type": "code",
   "execution_count": null,
   "metadata": {
    "collapsed": true
   },
   "outputs": [],
   "source": []
  }
 ],
 "metadata": {
  "anaconda-cloud": {},
  "celltoolbar": "Slideshow",
  "kernelspec": {
   "display_name": "Python 3",
   "language": "python",
   "name": "python3"
  },
  "language_info": {
   "codemirror_mode": {
    "name": "ipython",
    "version": 3
   },
   "file_extension": ".py",
   "mimetype": "text/x-python",
   "name": "python",
   "nbconvert_exporter": "python",
   "pygments_lexer": "ipython3",
   "version": "3.6.3"
  },
  "nbpresent": {
   "slides": {
    "13a4ad86-9eba-4537-8f38-be25e5b5ee46": {
     "id": "13a4ad86-9eba-4537-8f38-be25e5b5ee46",
     "prev": "ac6762e2-f66b-4ea5-a390-451cae1a00ca",
     "regions": {
      "40b0af1e-68f4-4bb5-abe8-513c315b5def": {
       "attrs": {
        "height": 0.8,
        "width": 0.8,
        "x": 0.1,
        "y": 0.1
       },
       "content": {
        "cell": "3022bdae-2440-4a85-87e7-adb72874d635",
        "part": "whole"
       },
       "id": "40b0af1e-68f4-4bb5-abe8-513c315b5def"
      }
     }
    },
    "32fc0c96-eb52-41b7-9f55-9670863ec89c": {
     "id": "32fc0c96-eb52-41b7-9f55-9670863ec89c",
     "prev": null,
     "regions": {
      "6caeaec5-e763-4cc9-9eb1-710ac2fa2857": {
       "attrs": {
        "height": 0.8,
        "width": 0.8,
        "x": 0.1,
        "y": 0.1
       },
       "content": {
        "cell": "9abc2fa3-20b0-4b5d-978d-60386e06d185",
        "part": "whole"
       },
       "id": "6caeaec5-e763-4cc9-9eb1-710ac2fa2857"
      }
     }
    },
    "3c96969d-0673-4280-b878-fea84dc54fd3": {
     "id": "3c96969d-0673-4280-b878-fea84dc54fd3",
     "prev": "32fc0c96-eb52-41b7-9f55-9670863ec89c",
     "regions": {
      "b2b95aa7-c88b-4713-b878-e0e1e09f0a68": {
       "attrs": {
        "height": 1,
        "width": 1,
        "x": 0,
        "y": 0
       },
       "content": {
        "cell": "df1cec97-e18a-4438-a823-519afbd9c72e",
        "part": "whole"
       },
       "id": "b2b95aa7-c88b-4713-b878-e0e1e09f0a68"
      }
     }
    },
    "5bbff6ba-e1a5-4040-ae21-7d44d245ebce": {
     "id": "5bbff6ba-e1a5-4040-ae21-7d44d245ebce",
     "prev": "89d62945-db08-43a6-9bf1-abe40fc81362",
     "regions": {
      "ba97264d-412f-45da-be8d-e0cd14dc4d9c": {
       "attrs": {
        "height": 0.4,
        "width": 0.4,
        "x": 0.5,
        "y": 0.1
       },
       "content": {
        "cell": "3a8a9353-3d3a-41ea-955d-d38de9da71e4",
        "part": "source"
       },
       "id": "ba97264d-412f-45da-be8d-e0cd14dc4d9c"
      },
      "cb6586b5-c8d1-47f0-95f6-ff00c2a0f253": {
       "attrs": {
        "height": 0.4,
        "width": 0.4,
        "x": 0.1,
        "y": 0.1
       },
       "content": {
        "cell": "d195186e-ca36-49b7-9fa9-010a05c8db26",
        "part": "source"
       },
       "id": "cb6586b5-c8d1-47f0-95f6-ff00c2a0f253"
      },
      "d0084fb7-e986-4908-ad85-66771fd202b5": {
       "attrs": {
        "height": 0.4,
        "width": 0.4,
        "x": 0.5,
        "y": 0.5
       },
       "content": {
        "cell": "99ca109e-a5d1-4769-b9fa-1eac07801579",
        "part": "source"
       },
       "id": "d0084fb7-e986-4908-ad85-66771fd202b5"
      },
      "fa8beb19-e143-469a-b363-af5459002653": {
       "attrs": {
        "height": 0.4,
        "width": 0.4,
        "x": 0.1,
        "y": 0.5
       },
       "content": {
        "cell": "0e2dfadd-8466-4eae-a30b-100ba98aaa78",
        "part": "source"
       },
       "id": "fa8beb19-e143-469a-b363-af5459002653"
      }
     }
    },
    "89d62945-db08-43a6-9bf1-abe40fc81362": {
     "id": "89d62945-db08-43a6-9bf1-abe40fc81362",
     "prev": "afcd35b0-705e-4003-a81c-d70de23c84d1",
     "regions": {
      "b63613ee-d377-4193-8618-d3ec92266454": {
       "attrs": {
        "height": 0.8,
        "width": 0.45,
        "x": 0.5,
        "y": 0.1
       },
       "content": {
        "cell": "6fe4eb57-618f-4ec3-9946-c58755618772",
        "part": "outputs"
       },
       "id": "b63613ee-d377-4193-8618-d3ec92266454"
      },
      "b88258e0-8d65-4839-955c-464ff4aca970": {
       "attrs": {
        "height": 0.8,
        "width": 0.45,
        "x": 0.05,
        "y": 0.1
       },
       "content": {
        "cell": "6fe4eb57-618f-4ec3-9946-c58755618772",
        "part": "source"
       },
       "id": "b88258e0-8d65-4839-955c-464ff4aca970"
      }
     }
    },
    "ac6762e2-f66b-4ea5-a390-451cae1a00ca": {
     "id": "ac6762e2-f66b-4ea5-a390-451cae1a00ca",
     "prev": "3c96969d-0673-4280-b878-fea84dc54fd3",
     "regions": {
      "6c3e54b2-16d8-4566-a2ae-6ae460ab1fef": {
       "attrs": {
        "height": 0.8,
        "width": 0.8,
        "x": 0.1,
        "y": 0.1
       },
       "content": {
        "cell": "06265742-a8f5-404d-a35f-9202742400a6",
        "part": "whole"
       },
       "id": "6c3e54b2-16d8-4566-a2ae-6ae460ab1fef"
      }
     }
    },
    "afcd35b0-705e-4003-a81c-d70de23c84d1": {
     "id": "afcd35b0-705e-4003-a81c-d70de23c84d1",
     "prev": "13a4ad86-9eba-4537-8f38-be25e5b5ee46",
     "regions": {
      "221bcd33-dd05-4dec-ba59-9e69e24e431f": {
       "attrs": {
        "height": 0.8,
        "width": 0.45,
        "x": 0.5,
        "y": 0.1
       },
       "content": {
        "cell": "98549bc2-80c8-4ab3-9179-a9c7fff71010",
        "part": "source"
       },
       "id": "221bcd33-dd05-4dec-ba59-9e69e24e431f"
      },
      "a9f51414-da39-463d-8026-990cecc8c8dc": {
       "attrs": {
        "height": 0.8,
        "width": 0.45,
        "x": 0.05,
        "y": 0.1
       },
       "content": {
        "cell": "c7b786a5-c90b-4e27-b6ae-d66b9feff56f",
        "part": "source"
       },
       "id": "a9f51414-da39-463d-8026-990cecc8c8dc"
      }
     }
    }
   },
   "themes": {}
  }
 },
 "nbformat": 4,
 "nbformat_minor": 2
}
