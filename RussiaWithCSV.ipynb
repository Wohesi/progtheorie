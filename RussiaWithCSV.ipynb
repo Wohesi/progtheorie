{
 "cells": [
  {
   "cell_type": "code",
   "execution_count": 31,
   "metadata": {
    "collapsed": false
   },
   "outputs": [],
   "source": [
    "import csv\n",
    "\n",
    "with open(\"RussiaCompleteDataset.csv\") as csvfile:\n",
    "    russiaFile = csv.reader(csvfile)   \n",
    "    subjectsWithBorders = [pair for pair in russiaFile][1:]\n",
    "    subjectNames = list(set([x[0] for x in subjectsWithBorders]))\n",
    "    \n",
    "#subjectsWithBorders[:10]\n",
    "#subjectNames[:10]"
   ]
  },
  {
   "cell_type": "code",
   "execution_count": 32,
   "metadata": {
    "collapsed": false
   },
   "outputs": [],
   "source": [
    "import networkx as nx\n",
    "import matplotlib.pyplot as plt\n",
    "\n",
    "RUS1 = nx.Graph()\n",
    "RUS1.add_nodes_from(subjectNames)\n",
    "RUS1.add_edges_from(subjectsWithBorders)"
   ]
  },
  {
   "cell_type": "code",
   "execution_count": 36,
   "metadata": {
    "collapsed": false
   },
   "outputs": [
    {
     "ename": "UnicodeDecodeError",
     "evalue": "'ascii' codec can't decode byte 0xc3 in position 6: ordinal not in range(128)",
     "output_type": "error",
     "traceback": [
      "\u001b[0;31m---------------------------------------------------------------------------\u001b[0m",
      "\u001b[0;31mUnicodeDecodeError\u001b[0m                        Traceback (most recent call last)",
      "\u001b[0;32m<ipython-input-36-215003c4e456>\u001b[0m in \u001b[0;36m<module>\u001b[0;34m()\u001b[0m\n\u001b[1;32m     10\u001b[0m nx.draw_networkx_labels(RUS1, pos, \n\u001b[1;32m     11\u001b[0m                         \u001b[0mnodelist\u001b[0m\u001b[0;34m=\u001b[0m\u001b[0mRUS1\u001b[0m\u001b[0;34m.\u001b[0m\u001b[0mnodes\u001b[0m\u001b[0;34m(\u001b[0m\u001b[0;34m)\u001b[0m\u001b[0;34m,\u001b[0m\u001b[0;34m\u001b[0m\u001b[0m\n\u001b[0;32m---> 12\u001b[0;31m                         font_size=15)\n\u001b[0m\u001b[1;32m     13\u001b[0m nx.draw_networkx_edges(RUS1, pos, \n\u001b[1;32m     14\u001b[0m                         \u001b[0medgelist\u001b[0m\u001b[0;34m=\u001b[0m\u001b[0mRUS1\u001b[0m\u001b[0;34m.\u001b[0m\u001b[0medges\u001b[0m\u001b[0;34m(\u001b[0m\u001b[0;34m)\u001b[0m\u001b[0;34m,\u001b[0m\u001b[0;34m\u001b[0m\u001b[0m\n",
      "\u001b[0;32m/Users/iliassa/anaconda2/lib/python2.7/site-packages/networkx/drawing/nx_pylab.pyc\u001b[0m in \u001b[0;36mdraw_networkx_labels\u001b[0;34m(G, pos, labels, font_size, font_color, font_family, font_weight, alpha, bbox, ax, **kwds)\u001b[0m\n\u001b[1;32m    734\u001b[0m                   \u001b[0mtransform\u001b[0m\u001b[0;34m=\u001b[0m\u001b[0max\u001b[0m\u001b[0;34m.\u001b[0m\u001b[0mtransData\u001b[0m\u001b[0;34m,\u001b[0m\u001b[0;34m\u001b[0m\u001b[0m\n\u001b[1;32m    735\u001b[0m                   \u001b[0mbbox\u001b[0m\u001b[0;34m=\u001b[0m\u001b[0mbbox\u001b[0m\u001b[0;34m,\u001b[0m\u001b[0;34m\u001b[0m\u001b[0m\n\u001b[0;32m--> 736\u001b[0;31m                   \u001b[0mclip_on\u001b[0m\u001b[0;34m=\u001b[0m\u001b[0mTrue\u001b[0m\u001b[0;34m,\u001b[0m\u001b[0;34m\u001b[0m\u001b[0m\n\u001b[0m\u001b[1;32m    737\u001b[0m                   )\n\u001b[1;32m    738\u001b[0m         \u001b[0mtext_items\u001b[0m\u001b[0;34m[\u001b[0m\u001b[0mn\u001b[0m\u001b[0;34m]\u001b[0m \u001b[0;34m=\u001b[0m \u001b[0mt\u001b[0m\u001b[0;34m\u001b[0m\u001b[0m\n",
      "\u001b[0;32m/Users/iliassa/anaconda2/lib/python2.7/site-packages/matplotlib/axes/_axes.pyc\u001b[0m in \u001b[0;36mtext\u001b[0;34m(self, x, y, s, fontdict, withdash, **kwargs)\u001b[0m\n\u001b[1;32m    635\u001b[0m         \u001b[0;32melse\u001b[0m\u001b[0;34m:\u001b[0m\u001b[0;34m\u001b[0m\u001b[0m\n\u001b[1;32m    636\u001b[0m             t = mtext.Text(\n\u001b[0;32m--> 637\u001b[0;31m                 x=x, y=y, text=s)\n\u001b[0m\u001b[1;32m    638\u001b[0m \u001b[0;34m\u001b[0m\u001b[0m\n\u001b[1;32m    639\u001b[0m         \u001b[0mt\u001b[0m\u001b[0;34m.\u001b[0m\u001b[0mupdate\u001b[0m\u001b[0;34m(\u001b[0m\u001b[0mdefault\u001b[0m\u001b[0;34m)\u001b[0m\u001b[0;34m\u001b[0m\u001b[0m\n",
      "\u001b[0;32m/Users/iliassa/anaconda2/lib/python2.7/site-packages/matplotlib/text.pyc\u001b[0m in \u001b[0;36m__init__\u001b[0;34m(self, x, y, text, color, verticalalignment, horizontalalignment, multialignment, fontproperties, rotation, linespacing, rotation_mode, usetex, wrap, **kwargs)\u001b[0m\n\u001b[1;32m    219\u001b[0m             \u001b[0mfontproperties\u001b[0m \u001b[0;34m=\u001b[0m \u001b[0mFontProperties\u001b[0m\u001b[0;34m(\u001b[0m\u001b[0mfontproperties\u001b[0m\u001b[0;34m)\u001b[0m\u001b[0;34m\u001b[0m\u001b[0m\n\u001b[1;32m    220\u001b[0m \u001b[0;34m\u001b[0m\u001b[0m\n\u001b[0;32m--> 221\u001b[0;31m         \u001b[0mself\u001b[0m\u001b[0;34m.\u001b[0m\u001b[0mset_text\u001b[0m\u001b[0;34m(\u001b[0m\u001b[0mtext\u001b[0m\u001b[0;34m)\u001b[0m\u001b[0;34m\u001b[0m\u001b[0m\n\u001b[0m\u001b[1;32m    222\u001b[0m         \u001b[0mself\u001b[0m\u001b[0;34m.\u001b[0m\u001b[0mset_color\u001b[0m\u001b[0;34m(\u001b[0m\u001b[0mcolor\u001b[0m\u001b[0;34m)\u001b[0m\u001b[0;34m\u001b[0m\u001b[0m\n\u001b[1;32m    223\u001b[0m         \u001b[0mself\u001b[0m\u001b[0;34m.\u001b[0m\u001b[0mset_usetex\u001b[0m\u001b[0;34m(\u001b[0m\u001b[0musetex\u001b[0m\u001b[0;34m)\u001b[0m\u001b[0;34m\u001b[0m\u001b[0m\n",
      "\u001b[0;32m/Users/iliassa/anaconda2/lib/python2.7/site-packages/matplotlib/text.pyc\u001b[0m in \u001b[0;36mset_text\u001b[0;34m(self, s)\u001b[0m\n\u001b[1;32m   1210\u001b[0m         \u001b[0mACCEPTS\u001b[0m\u001b[0;34m:\u001b[0m \u001b[0mstring\u001b[0m \u001b[0;32mor\u001b[0m \u001b[0manything\u001b[0m \u001b[0mprintable\u001b[0m \u001b[0;32mwith\u001b[0m \u001b[0;34m'%s'\u001b[0m \u001b[0mconversion\u001b[0m\u001b[0;34m.\u001b[0m\u001b[0;34m\u001b[0m\u001b[0m\n\u001b[1;32m   1211\u001b[0m         \"\"\"\n\u001b[0;32m-> 1212\u001b[0;31m         \u001b[0mself\u001b[0m\u001b[0;34m.\u001b[0m\u001b[0m_text\u001b[0m \u001b[0;34m=\u001b[0m \u001b[0;34m'%s'\u001b[0m \u001b[0;34m%\u001b[0m \u001b[0;34m(\u001b[0m\u001b[0ms\u001b[0m\u001b[0;34m,\u001b[0m\u001b[0;34m)\u001b[0m\u001b[0;34m\u001b[0m\u001b[0m\n\u001b[0m\u001b[1;32m   1213\u001b[0m         \u001b[0mself\u001b[0m\u001b[0;34m.\u001b[0m\u001b[0mstale\u001b[0m \u001b[0;34m=\u001b[0m \u001b[0mTrue\u001b[0m\u001b[0;34m\u001b[0m\u001b[0m\n\u001b[1;32m   1214\u001b[0m \u001b[0;34m\u001b[0m\u001b[0m\n",
      "\u001b[0;31mUnicodeDecodeError\u001b[0m: 'ascii' codec can't decode byte 0xc3 in position 6: ordinal not in range(128)"
     ]
    }
   ],
   "source": [
    "nx.spring_layout(RUS1)\n",
    "\n",
    "plt.figure(figsize=(20,20))\n",
    "\n",
    "pos = nx.spring_layout(RUS1)\n",
    "nx.draw_networkx_nodes(RUS1, pos, \n",
    "                        nodelist=RUS1.nodes(),\n",
    "                        node_color=\"yellow\",\n",
    "                        alpha=0.4)\n",
    "nx.draw_networkx_labels(RUS1, pos, \n",
    "                        nodelist=RUS1.nodes(), \n",
    "                        font_size=15)\n",
    "nx.draw_networkx_edges(RUS1, pos, \n",
    "                        edgelist=RUS1.edges(),\n",
    "                        edge_color=\"grey\")\n",
    "plt.axis('off')\n",
    "plt.show()"
   ]
  },
  {
   "cell_type": "code",
   "execution_count": 34,
   "metadata": {
    "collapsed": false
   },
   "outputs": [
    {
     "data": {
      "text/plain": [
       "[('Chelyabinsk Oblast', 15),\n",
       " ('Orenburg Oblast', 14),\n",
       " ('Sverdlovsk Oblast', 11),\n",
       " ('Republic of Tatarstan', 10),\n",
       " ('Voronezh Oblast', 10),\n",
       " ('Nizhny Novgorod Oblast', 9),\n",
       " ('Republic of Karelia', 9),\n",
       " ('Tuva Republic', 9),\n",
       " ('Kirov Oblast', 9),\n",
       " ('Moscow Oblast', 9)]"
      ]
     },
     "execution_count": 34,
     "metadata": {},
     "output_type": "execute_result"
    }
   ],
   "source": [
    "rusDegree = nx.degree(RUS1)    \n",
    "rusSortedDeg = [(w,rusDegree[w]) for w in sorted(rusDegree, key=rusDegree.get, reverse=True)]\n",
    "rusSortedDeg[:10]"
   ]
  },
  {
   "cell_type": "code",
   "execution_count": null,
   "metadata": {
    "collapsed": true
   },
   "outputs": [],
   "source": []
  }
 ],
 "metadata": {
  "kernelspec": {
   "display_name": "Python 2",
   "language": "python",
   "name": "python2"
  },
  "language_info": {
   "codemirror_mode": {
    "name": "ipython",
    "version": 2
   },
   "file_extension": ".py",
   "mimetype": "text/x-python",
   "name": "python",
   "nbconvert_exporter": "python",
   "pygments_lexer": "ipython2",
   "version": "2.7.14"
  }
 },
 "nbformat": 4,
 "nbformat_minor": 2
}
