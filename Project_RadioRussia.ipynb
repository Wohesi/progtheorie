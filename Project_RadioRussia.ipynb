{
 "cells": [
  {
   "cell_type": "markdown",
   "metadata": {},
   "source": [
    "## Our Problem:\n",
    "----\n",
    "\n",
    "a) Verzin een zenderinrichting voor de Oekraïne. Iedere provincie moet een zendertype hebben, geen enkele twee aangrenzende provincies mogen hetzelfde zendertype hebben.\n",
    "Verzin een zenderinrichting voor het hele land, en hoe minder zendertypes je gebruikt, hoe beter.\n",
    "\n",
    "Als we dit probleem anders vertalen namelijk de zendertypes veranderen voor kleuren krijgen we het volgende: \n",
    "    \n",
    "Verzin een <span style=\"color:red\">*kleurenpallet.*</span> voor Oekraïne. Iedere provincie moet een <span style=\"color:red\">*kleur* </span> hebben, geen enkele twee aangrenzende provincies mogen dezelfde <span style=\"color:red\">*kleur* </span> hebben. \n",
    "\n",
    "#### Mogelijke oplossing. \n",
    "----\n",
    "\n",
    "* Dit heeft er schijn van dat het lijkt op het “four color theorem”\n",
    "* Verder kan er gekeken worden naar ‘Graph Coloring’ \n",
    "* Leuk hoor\n"
   ]
  },
  {
   "cell_type": "markdown",
   "metadata": {},
   "source": [
    "----"
   ]
  },
  {
   "cell_type": "markdown",
   "metadata": {},
   "source": [
    "#### Importing Networkx for network calculations\n",
    "-----"
   ]
  },
  {
   "cell_type": "code",
   "execution_count": null,
   "metadata": {
    "collapsed": true
   },
   "outputs": [],
   "source": [
    "import networkx as nx\n",
    "import matplotlib.pyplot as plt\n",
    "%matplotlib inline\n",
    "\n",
    "plt.figure(1,figsize=(15,15))"
   ]
  }
 ],
 "metadata": {
  "anaconda-cloud": {},
  "kernelspec": {
   "display_name": "Python [conda root]",
   "language": "python",
   "name": "conda-root-py"
  },
  "language_info": {
   "codemirror_mode": {
    "name": "ipython",
    "version": 3
   },
   "file_extension": ".py",
   "mimetype": "text/x-python",
   "name": "python",
   "nbconvert_exporter": "python",
   "pygments_lexer": "ipython3",
   "version": "3.5.2"
  }
 },
 "nbformat": 4,
 "nbformat_minor": 2
}
