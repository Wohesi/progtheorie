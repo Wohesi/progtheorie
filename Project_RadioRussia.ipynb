{
 "cells": [
  {
   "cell_type": "markdown",
   "metadata": {},
   "source": [
    "## Our Problem:\n",
    "----\n",
    "\n",
    "a) Verzin een zenderinrichting voor de Oekraïne. Iedere provincie moet een zendertype hebben, geen enkele twee aangrenzende provincies mogen hetzelfde zendertype hebben.\n",
    "Verzin een zenderinrichting voor het hele land, en hoe minder zendertypes je gebruikt, hoe beter.\n",
    "\n",
    "Als we dit probleem anders vertalen namelijk de zendertypes veranderen voor kleuren krijgen we het volgende: \n",
    "    \n",
    "Verzin een <span style=\"color:red\">*kleurenpallet.*</span> voor Oekraïne. Iedere provincie moet een <span style=\"color:red\">*kleur* </span> hebben, geen enkele twee aangrenzende provincies mogen dezelfde <span style=\"color:red\">*kleur* </span> hebben. \n",
    "\n",
    "#### Mogelijke oplossing. \n",
    "----\n",
    "\n",
    "* Dit heeft er schijn van dat het lijkt op het “four color theorem”\n",
    "* Verder kan er gekeken worden naar ‘Graph Coloring’ \n",
    "* Op de Wikipedia pagina die gaat over het kleuren van grafen (https://nl.wikipedia.org/wiki/Kleuren_van_grafen) wordt verondersteld dat een greedy algoritme van toepassing is voor de knopen kleuring van een graaf.\n"
   ]
  },
  {
   "cell_type": "markdown",
   "metadata": {},
   "source": [
    "----"
   ]
  },
  {
   "cell_type": "markdown",
   "metadata": {},
   "source": [
    "#### Importing Networkx for network calculations\n",
    "\n",
    "In order to get a list of countries and their provinces, the module pycountry is being used. \n",
    "To use this module use: pip install pycountry\n",
    "\n",
    "-----"
   ]
  },
  {
   "cell_type": "code",
   "execution_count": 5,
   "metadata": {
    "collapsed": false
   },
   "outputs": [
    {
     "data": {
      "text/plain": [
       "<matplotlib.figure.Figure at 0x944c438>"
      ]
     },
     "execution_count": 5,
     "metadata": {},
     "output_type": "execute_result"
    },
    {
     "data": {
      "text/plain": [
       "<matplotlib.figure.Figure at 0x944c438>"
      ]
     },
     "metadata": {},
     "output_type": "display_data"
    }
   ],
   "source": [
    "import networkx as nx\n",
    "import matplotlib.pyplot as plt\n",
    "%matplotlib inline\n",
    "\n",
    "plt.figure(1,figsize=(15,15))"
   ]
  },
  {
   "cell_type": "code",
   "execution_count": 10,
   "metadata": {
    "collapsed": false
   },
   "outputs": [
    {
     "name": "stdout",
     "output_type": "stream",
     "text": [
      "[u\"Cherkas'ka Oblast'\", u\"Chernihivs'ka Oblast'\", u\"Chernivets'ka Oblast'\", u\"Dnipropetrovs'ka Oblast'\", u\"Donets'ka Oblast'\", u\"Ivano-Frankivs'ka Oblast'\", u\"Kharkivs'ka Oblast'\", u\"Khersons'ka Oblast'\", u\"Khmel'nyts'ka Oblast'\", u\"Kirovohrads'ka Oblast'\", u\"Ky\\xefvs'ka Oblast'\", u\"Ky\\xefvs'ka mis'ka rada\", u\"L'vivs'ka Oblast'\", u\"Luhans'ka Oblast'\", u\"Mykola\\xefvs'ka Oblast'\", u\"Odes'ka Oblast'\", u\"Poltavs'ka Oblast'\", u'Respublika Krym', u\"Rivnens'ka Oblast'\", u'Sevastopol', u\"Sums 'ka Oblast'\", u\"Ternopil's'ka Oblast'\", u\"Vinnyts'ka Oblast'\", u\"Volyns'ka Oblast'\", u\"Zakarpats'ka Oblast'\", u\"Zaporiz'ka Oblast'\", u\"Zhytomyrs'ka Oblast'\"]\n"
     ]
    },
    {
     "data": {
      "image/png": "[encoded data removed]",
      "text/plain": [
       "<matplotlib.figure.Figure at 0x9cfdcf8>"
      ]
     },
     "metadata": {},
     "output_type": "display_data"
    }
   ],
   "source": [
    "import pycountry\n",
    "\n",
    "list(pycountry.countries)[0]\n",
    "ukraine = pycountry.countries.get(name='Ukraine')\n",
    "\n",
    "UA_oblast = list(pycountry.subdivisions.get(country_code=\"UA\"))\n",
    "\n",
    "na = [x.name for x in UA_province]\n",
    "print sorted(names)\n",
    "\n",
    "UA = nx.Graph()\n",
    "UA.add_nodes_from(names)\n",
    "nx.draw(UA)\n"
   ]
  },
  {
   "cell_type": "code",
   "execution_count": null,
   "metadata": {
    "collapsed": true
   },
   "outputs": [],
   "source": []
  }
 ],
 "metadata": {
  "anaconda-cloud": {},
  "kernelspec": {
   "display_name": "Python 2",
   "language": "python",
   "name": "python2"
  },
  "language_info": {
   "codemirror_mode": {
    "name": "ipython",
    "version": 2
   },
   "file_extension": ".py",
   "mimetype": "text/x-python",
   "name": "python",
   "nbconvert_exporter": "python",
   "pygments_lexer": "ipython2",
   "version": "2.7.13"
  }
 },
 "nbformat": 4,
 "nbformat_minor": 2
}
