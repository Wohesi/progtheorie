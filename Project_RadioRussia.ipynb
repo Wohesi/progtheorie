{
 "cells": [
  {
   "cell_type": "markdown",
   "metadata": {
    "slideshow": {
     "slide_type": "slide"
    }
   },
   "source": [
    "## Our Problem:\n",
    "----\n",
    "\n",
    "a) Verzin een zenderinrichting voor de Oekraïne. Iedere provincie moet een zendertype hebben, geen enkele twee aangrenzende provincies mogen hetzelfde zendertype hebben.\n",
    "Verzin een zenderinrichting voor het hele land, en hoe minder zendertypes je gebruikt, hoe beter.\n",
    "\n",
    "Als we dit probleem anders vertalen namelijk de zendertypes veranderen voor kleuren krijgen we het volgende: \n",
    "    \n",
    "Verzin een <span style=\"color:red\">*kleurenpallet.*</span> voor Oekraïne. Iedere provincie moet een <span style=\"color:red\">*kleur* </span> hebben, geen enkele twee aangrenzende provincies mogen dezelfde <span style=\"color:red\">*kleur* </span> hebben. \n",
    "\n",
    "#### Mogelijke oplossing. \n",
    "----\n",
    "\n",
    "* Dit heeft er schijn van dat het lijkt op het “four color theorem”\n",
    "* Verder kan er gekeken worden naar ‘Graph Coloring’ \n",
    "* Op de Wikipedia pagina die gaat over het kleuren van grafen (https://nl.wikipedia.org/wiki/Kleuren_van_grafen) wordt verondersteld dat een greedy algoritme van toepassing is voor de knopen kleuring van een graaf.\n"
   ]
  },
  {
   "cell_type": "markdown",
   "metadata": {},
   "source": [
    "----"
   ]
  },
  {
   "cell_type": "markdown",
   "metadata": {},
   "source": [
    "#### Importing Networkx for network calculations\n",
    "\n",
    "In order to get a list of countries and their provinces, the module pycountry is being used. \n",
    "To use this module use: pip install pycountry\n",
    "\n",
    "-----"
   ]
  },
  {
   "cell_type": "code",
   "execution_count": 1,
   "metadata": {
    "collapsed": false
   },
   "outputs": [
    {
     "data": {
      "text/plain": [
       "<matplotlib.figure.Figure at 0x937c860>"
      ]
     },
     "execution_count": 1,
     "metadata": {},
     "output_type": "execute_result"
    },
    {
     "data": {
      "text/plain": [
       "<matplotlib.figure.Figure at 0x937c860>"
      ]
     },
     "metadata": {},
     "output_type": "display_data"
    }
   ],
   "source": [
    "import networkx as nx\n",
    "import matplotlib.pyplot as plt\n",
    "%matplotlib inline\n",
    "\n",
    "plt.figure(1,figsize=(15,15))"
   ]
  },
  {
   "cell_type": "code",
   "execution_count": 2,
   "metadata": {
    "collapsed": false,
    "slideshow": {
     "slide_type": "slide"
    }
   },
   "outputs": [
    {
     "name": "stdout",
     "output_type": "stream",
     "text": [
      "[u\"Cherkas'ka Oblast'\", u\"Chernihivs'ka Oblast'\", u\"Chernivets'ka Oblast'\", u\"Dnipropetrovs'ka Oblast'\", u\"Donets'ka Oblast'\", u\"Ivano-Frankivs'ka Oblast'\", u\"Kharkivs'ka Oblast'\", u\"Khersons'ka Oblast'\", u\"Khmel'nyts'ka Oblast'\", u\"Kirovohrads'ka Oblast'\", u\"Ky\\xefvs'ka Oblast'\", u\"Ky\\xefvs'ka mis'ka rada\", u\"L'vivs'ka Oblast'\", u\"Luhans'ka Oblast'\", u\"Mykola\\xefvs'ka Oblast'\", u\"Odes'ka Oblast'\", u\"Poltavs'ka Oblast'\", u'Respublika Krym', u\"Rivnens'ka Oblast'\", u'Sevastopol', u\"Sums 'ka Oblast'\", u\"Ternopil's'ka Oblast'\", u\"Vinnyts'ka Oblast'\", u\"Volyns'ka Oblast'\", u\"Zakarpats'ka Oblast'\", u\"Zaporiz'ka Oblast'\", u\"Zhytomyrs'ka Oblast'\"]\n"
     ]
    },
    {
     "name": "stderr",
     "output_type": "stream",
     "text": [
      "C:\\Users\\Wout\\Anaconda2\\lib\\site-packages\\networkx\\drawing\\nx_pylab.py:126: MatplotlibDeprecationWarning: pyplot.hold is deprecated.\n",
      "    Future behavior will be consistent with the long-time default:\n",
      "    plot commands add elements without first clearing the\n",
      "    Axes and/or Figure.\n",
      "  b = plt.ishold()\n",
      "C:\\Users\\Wout\\Anaconda2\\lib\\site-packages\\networkx\\drawing\\nx_pylab.py:138: MatplotlibDeprecationWarning: pyplot.hold is deprecated.\n",
      "    Future behavior will be consistent with the long-time default:\n",
      "    plot commands add elements without first clearing the\n",
      "    Axes and/or Figure.\n",
      "  plt.hold(b)\n",
      "C:\\Users\\Wout\\Anaconda2\\lib\\site-packages\\matplotlib\\__init__.py:917: UserWarning: axes.hold is deprecated. Please remove it from your matplotlibrc and/or style files.\n",
      "  warnings.warn(self.msg_depr_set % key)\n",
      "C:\\Users\\Wout\\Anaconda2\\lib\\site-packages\\matplotlib\\rcsetup.py:152: UserWarning: axes.hold is deprecated, will be removed in 3.0\n",
      "  warnings.warn(\"axes.hold is deprecated, will be removed in 3.0\")\n"
     ]
    },
    {
     "data": {
      "image/png": "[encoded data removed]",
      "text/plain": [
       "<matplotlib.figure.Figure at 0x9c997f0>"
      ]
     },
     "metadata": {},
     "output_type": "display_data"
    }
   ],
   "source": [
    "import pycountry\n",
    "\n",
    "list(pycountry.countries)[0]\n",
    "ukraine = pycountry.countries.get(name='Ukraine')\n",
    "\n",
    "UA_oblast = list(pycountry.subdivisions.get(country_code=\"UA\"))\n",
    "\n",
    "oblast = [x.name for x in UA_oblast]\n",
    "print sorted(oblast)\n",
    "\n",
    "UA = nx.Graph()\n",
    "UA.add_nodes_from(oblast)\n",
    "nx.draw(UA)\n"
   ]
  },
  {
   "cell_type": "code",
   "execution_count": 41,
   "metadata": {
    "collapsed": false,
    "slideshow": {
     "slide_type": "slide"
    }
   },
   "outputs": [
    {
     "name": "stdout",
     "output_type": "stream",
     "text": [
      "(u'Zhytomyr Oblast', u'Vinnytsia Oblast')\n",
      "(u'Zhytomyr Oblast', u'Kyiv Oblast')\n",
      "(u'Zhytomyr Oblast', u'Khmelnytsky Oblast')\n",
      "(u'Zhytomyr Oblast', u'Rivne Oblast')\n",
      "(u'Zhytomyr Oblast', u'Gomel Region')\n",
      "(u'Cherkasy Oblast', u'Poltava Oblast')\n",
      "(u'Cherkasy Oblast', u'Kyiv Oblast')\n",
      "(u'Cherkasy Oblast', u'Kirovohrad Oblast')\n",
      "(u'Kherson Oblast', u'Dnipropetrovsk Oblast')\n",
      "(u'Kherson Oblast', u'Zaporizhzhya Oblast')\n",
      "(u'Kherson Oblast', u'Mykolaiv Oblast')\n",
      "(u'Kherson Oblast', u'Autonomous Republic of Crimea')\n",
      "(u'Lviv Oblast', u'Volyn Oblast')\n",
      "(u'Lviv Oblast', u'Zakarpattia Oblast')\n",
      "(u'Lviv Oblast', u'Ternopil Oblast')\n",
      "(u'Lviv Oblast', u'Rivne Oblast')\n",
      "(u'Lviv Oblast', u'Ivano-Frankivsk Oblast')\n",
      "(u'Vinnytsia Oblast', u'Zhytomyr Oblast')\n",
      "(u'Vinnytsia Oblast', u'Chernivtsi Oblast')\n",
      "(u'Vinnytsia Oblast', u'Kyiv Oblast')\n",
      "(u'Vinnytsia Oblast', u'Khmelnytsky Oblast')\n",
      "(u'Vinnytsia Oblast', u'Odessa Oblast')\n",
      "(u'Vinnytsia Oblast', u'Kirovohrad Oblast')\n",
      "(u'Vinnytsia Oblast', u'Ocni\\u021ba District')\n",
      "(u'Vinnytsia Oblast', u'Dondu\\u0219eni District')\n",
      "(u'Vinnytsia Oblast', u'Camenca District')\n",
      "(u'Vinnytsia Oblast', u'Soroca District')\n",
      "(u'Volyn Oblast', u'Lviv Oblast')\n",
      "(u'Volyn Oblast', u'Brest Region')\n",
      "(u'Volyn Oblast', u'Rivne Oblast')\n",
      "(u'Chernihiv Oblast', u'Bryansk Oblast')\n",
      "(u'Chernihiv Oblast', u'Vinnytsia Oblast')\n",
      "(u'Chernihiv Oblast', u'Poltava Oblast')\n",
      "(u'Chernihiv Oblast', u'Kyiv Oblast')\n",
      "(u'Chernihiv Oblast', u'Sumy Oblast')\n",
      "(u'Chernihiv Oblast', u'Ivano-Frankivsk Oblast')\n",
      "(u'Chernihiv Oblast', u'Gomel Region')\n",
      "(u'Chernivtsi Oblast', u'Vinnytsia Oblast')\n",
      "(u'Chernivtsi Oblast', u'Khmelnytsky Oblast')\n",
      "(u'Chernivtsi Oblast', u'Ternopil Oblast')\n",
      "(u'Chernivtsi Oblast', u'Ivano-Frankivsk Oblast')\n",
      "(u'Chernivtsi Oblast', u'Boto\\u015fani County')\n",
      "(u'Chernivtsi Oblast', u'Suceava County')\n",
      "(u'Chernivtsi Oblast', u'Ocni\\u021ba District')\n",
      "(u'Chernivtsi Oblast', u'Briceni District')\n",
      "(u'Poltava Oblast', u'Cherkasy Oblast')\n",
      "(u'Poltava Oblast', u'Chernihiv Oblast')\n",
      "(u'Poltava Oblast', u'Kyiv Oblast')\n",
      "(u'Poltava Oblast', u'Sumy Oblast')\n",
      "(u'Poltava Oblast', u'Kharkiv Oblast')\n",
      "(u'Poltava Oblast', u'Dnipropetrovsk Oblast')\n",
      "(u'Poltava Oblast', u'Kirovohrad Oblast')\n",
      "(u'Kyiv Oblast', u'Kiev')\n",
      "(u'Kyiv Oblast', u'Zhytomyr Oblast')\n",
      "(u'Kyiv Oblast', u'Cherkasy Oblast')\n",
      "(u'Kyiv Oblast', u'Vinnytsia Oblast')\n",
      "(u'Kyiv Oblast', u'Chernihiv Oblast')\n",
      "(u'Kyiv Oblast', u'Poltava Oblast')\n",
      "(u'Kyiv Oblast', u'Gomel Region')\n",
      "(u'Zakarpattia Oblast', u'Lviv Oblast')\n",
      "(u'Zakarpattia Oblast', u'Satu Mare County')\n",
      "(u'Zakarpattia Oblast', u'Ivano-Frankivsk Oblast')\n",
      "(u'Zakarpattia Oblast', u'Ko\\u0161ice Region')\n",
      "(u'Zakarpattia Oblast', u'Maramure\\u0219 County')\n",
      "(u'Zakarpattia Oblast', u'Pre\\u0161ov Region')\n",
      "(u'Zakarpattia Oblast', u'Szabolcs-Szatm\\xe1r-Bereg County')\n",
      "(u'Sumy Oblast', u'Bryansk Oblast')\n",
      "(u'Sumy Oblast', u'Kursk Oblast')\n",
      "(u'Sumy Oblast', u'Belgorod Oblast')\n",
      "(u'Sumy Oblast', u'Chernihiv Oblast')\n",
      "(u'Sumy Oblast', u'Poltava Oblast')\n",
      "(u'Sumy Oblast', u'Kharkiv Oblast')\n",
      "(u'Kharkiv Oblast', u'Belgorod Oblast')\n",
      "(u'Kharkiv Oblast', u'Poltava Oblast')\n",
      "(u'Kharkiv Oblast', u'Sumy Oblast')\n",
      "(u'Kharkiv Oblast', u'Dnipropetrovsk Oblast')\n",
      "(u'Kharkiv Oblast', u'Luhansk Oblast')\n",
      "(u'Kharkiv Oblast', u'Donetsk Oblast')\n",
      "(u'Dnipropetrovsk Oblast', u'Kherson Oblast')\n",
      "(u'Dnipropetrovsk Oblast', u'Poltava Oblast')\n",
      "(u'Dnipropetrovsk Oblast', u'Kharkiv Oblast')\n",
      "(u'Dnipropetrovsk Oblast', u'Zaporizhzhya Oblast')\n",
      "(u'Dnipropetrovsk Oblast', u'Kirovohrad Oblast')\n",
      "(u'Dnipropetrovsk Oblast', u'Mykolaiv Oblast')\n",
      "(u'Dnipropetrovsk Oblast', u'Donetsk Oblast')\n",
      "(u'Khmelnytsky Oblast', u'Zhytomyr Oblast')\n",
      "(u'Khmelnytsky Oblast', u'Vinnytsia Oblast')\n",
      "(u'Khmelnytsky Oblast', u'Chernivtsi Oblast')\n",
      "(u'Khmelnytsky Oblast', u'Ternopil Oblast')\n",
      "(u'Khmelnytsky Oblast', u'Rivne Oblast')\n",
      "(u'Zaporizhzhya Oblast', u'Kherson Oblast')\n",
      "(u'Zaporizhzhya Oblast', u'Dnipropetrovsk Oblast')\n",
      "(u'Zaporizhzhya Oblast', u'Donetsk Oblast')\n",
      "(u'Odessa Oblast', u'Gagauzia')\n",
      "(u'Odessa Oblast', u'Vinnytsia Oblast')\n",
      "(u'Odessa Oblast', u'Kirovohrad Oblast')\n",
      "(u'Odessa Oblast', u'Mykolaiv Oblast')\n",
      "(u'Odessa Oblast', u'Tulcea County')\n",
      "(u'Odessa Oblast', u'Cimi\\u0219lia District')\n",
      "(u'Odessa Oblast', u'Transnistria autonomous territorial unit')\n",
      "(u'Odessa Oblast', u'Taraclia District')\n",
      "(u'Odessa Oblast', u'Basarabeasca District')\n",
      "(u'Odessa Oblast', u'C\\u0103u\\u0219eni District')\n",
      "(u'Odessa Oblast', u'Cahul District')\n",
      "(u'Odessa Oblast', u'Soroca District')\n",
      "(u'Odessa Oblast', u'\\u0218tefan Vod\\u0103 District')\n",
      "(u'Luhansk Oblast', u'Belgorod Oblast')\n",
      "(u'Luhansk Oblast', u'Voronezh Oblast')\n",
      "(u'Luhansk Oblast', u'Rostov Oblast')\n",
      "(u'Luhansk Oblast', u'Kharkiv Oblast')\n",
      "(u'Luhansk Oblast', u'Donetsk Oblast')\n",
      "(u'Ternopil Oblast', u'Lviv Oblast')\n",
      "(u'Ternopil Oblast', u'Chernivtsi Oblast')\n",
      "(u'Ternopil Oblast', u'Khmelnytsky Oblast')\n",
      "(u'Ternopil Oblast', u'Rivne Oblast')\n",
      "(u'Ternopil Oblast', u'Ivano-Frankivsk Oblast')\n",
      "(u'Rivne Oblast', u'Zhytomyr Oblast')\n",
      "(u'Rivne Oblast', u'Lviv Oblast')\n",
      "(u'Rivne Oblast', u'Volyn Oblast')\n",
      "(u'Rivne Oblast', u'Khmelnytsky Oblast')\n",
      "(u'Rivne Oblast', u'Ternopil Oblast')\n",
      "(u'Rivne Oblast', u'Brest Region')\n",
      "(u'Rivne Oblast', u'Gomel Region')\n",
      "(u'Ivano-Frankivsk Oblast', u'Lviv Oblast')\n",
      "(u'Ivano-Frankivsk Oblast', u'Chernivtsi Oblast')\n",
      "(u'Ivano-Frankivsk Oblast', u'Zakarpattia Oblast')\n",
      "(u'Ivano-Frankivsk Oblast', u'Ternopil Oblast')\n",
      "(u'Ivano-Frankivsk Oblast', u'Maramure\\u0219 County')\n",
      "(u'Kirovohrad Oblast', u'Cherkasy Oblast')\n",
      "(u'Kirovohrad Oblast', u'Vinnytsia Oblast')\n",
      "(u'Kirovohrad Oblast', u'Poltava Oblast')\n",
      "(u'Kirovohrad Oblast', u'Dnipropetrovsk Oblast')\n",
      "(u'Kirovohrad Oblast', u'Odessa Oblast')\n",
      "(u'Kirovohrad Oblast', u'Mykolaiv Oblast')\n",
      "(u'Mykolaiv Oblast', u'Kherson Oblast')\n",
      "(u'Mykolaiv Oblast', u'Dnipropetrovsk Oblast')\n",
      "(u'Mykolaiv Oblast', u'Odessa Oblast')\n",
      "(u'Mykolaiv Oblast', u'Kirovohrad Oblast')\n",
      "(u'Donetsk Oblast', u'Rostov Oblast')\n",
      "(u'Donetsk Oblast', u'Kharkiv Oblast')\n",
      "(u'Donetsk Oblast', u'Dnipropetrovsk Oblast')\n",
      "(u'Donetsk Oblast', u'Zaporizhzhya Oblast')\n",
      "(u'Donetsk Oblast', u'Luhansk Oblast')\n"
     ]
    },
    {
     "data": {
      "image/png": "[encoded data removed]",
      "text/plain": [
       "<matplotlib.figure.Figure at 0x98be518>"
      ]
     },
     "metadata": {},
     "output_type": "display_data"
    }
   ],
   "source": [
    "#pip install sparqlwrapper\n",
    "#https://rdflib.github.io/sparqlwrapper/\n",
    "\n",
    "from SPARQLWrapper import SPARQLWrapper, JSON\n",
    "\n",
    "sparql = SPARQLWrapper(\"https://query.wikidata.org/sparql\")\n",
    "\n",
    "sparql.setQuery(\"\"\"SELECT ?oblastLabel ?borderLabel WHERE {\n",
    "  ?oblast wdt:P31 wd:Q3348196.\n",
    "  ?border wdt:P47 ?oblast.\n",
    " \n",
    "  SERVICE wikibase:label { bd:serviceParam wikibase:language \"[AUTO_LANGUAGE],en\". }\n",
    "}\"\"\")\n",
    "\n",
    "sparql.setReturnFormat(JSON)\n",
    "results = sparql.query().convert()\n",
    "\n",
    "for result in results[\"results\"][\"bindings\"]:\n",
    "    # Bordering Oblasts\n",
    "    nb_oblasts = result['oblastLabel']['value'], result['borderLabel']['value']\n",
    "    print nb_oblasts"
   ]
  },
  {
   "cell_type": "code",
   "execution_count": 42,
   "metadata": {
    "collapsed": false
   },
   "outputs": [
    {
     "data": {
      "image/png": "[encoded data removed]",
      "text/plain": [
       "<matplotlib.figure.Figure at 0xa05bb70>"
      ]
     },
     "metadata": {},
     "output_type": "display_data"
    }
   ],
   "source": [
    "UA = nx.Graph()\n",
    "UA.add_nodes_from(nb_oblasts)\n",
    "nx.draw(UA)\n"
   ]
  },
  {
   "cell_type": "code",
   "execution_count": null,
   "metadata": {
    "collapsed": true
   },
   "outputs": [],
   "source": []
  }
 ],
 "metadata": {
  "anaconda-cloud": {},
  "kernelspec": {
   "display_name": "Python 2",
   "language": "python",
   "name": "python2"
  },
  "language_info": {
   "codemirror_mode": {
    "name": "ipython",
    "version": 2
   },
   "file_extension": ".py",
   "mimetype": "text/x-python",
   "name": "python",
   "nbconvert_exporter": "python",
   "pygments_lexer": "ipython2",
   "version": "2.7.13"
  }
 },
 "nbformat": 4,
 "nbformat_minor": 2
}
