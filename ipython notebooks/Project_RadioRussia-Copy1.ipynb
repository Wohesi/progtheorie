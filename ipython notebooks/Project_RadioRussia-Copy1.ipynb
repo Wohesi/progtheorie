{
 "cells": [
  {
   "cell_type": "markdown",
   "metadata": {},
   "source": [
    "## Our Problem:\n",
    "----\n",
    "\n",
    "a) Verzin een zenderinrichting voor de Oekraïne. Iedere provincie moet een zendertype hebben, geen enkele twee aangrenzende provincies mogen hetzelfde zendertype hebben.\n",
    "Verzin een zenderinrichting voor het hele land, en hoe minder zendertypes je gebruikt, hoe beter.\n",
    "\n",
    "Als we dit probleem anders vertalen namelijk de zendertypes veranderen voor kleuren krijgen we het volgende: \n",
    "    \n",
    "Verzin een <span style=\"color:red\">*kleurenpallet.*</span> voor Oekraïne. Iedere provincie moet een <span style=\"color:red\">*kleur* </span> hebben, geen enkele twee aangrenzende provincies mogen dezelfde <span style=\"color:red\">*kleur* </span> hebben. \n",
    "\n",
    "#### Mogelijke oplossing. \n",
    "----\n",
    "\n",
    "* Dit heeft er schijn van dat het lijkt op het “four color theorem”\n",
    "* Verder kan er gekeken worden naar ‘Graph Coloring’ \n",
    "* Leuk hoor\n"
   ]
  },
  {
   "cell_type": "markdown",
   "metadata": {},
   "source": [
    "----"
   ]
  },
  {
   "cell_type": "markdown",
   "metadata": {},
   "source": [
    "#### Importing Networkx for network calculations\n",
    "-----"
   ]
  },
  {
   "cell_type": "code",
   "execution_count": 38,
   "metadata": {
    "collapsed": false
   },
   "outputs": [
    {
     "data": {
      "text/plain": [
       "<matplotlib.figure.Figure at 0xae36940>"
      ]
     },
     "execution_count": 38,
     "metadata": {},
     "output_type": "execute_result"
    },
    {
     "data": {
      "text/plain": [
       "<matplotlib.figure.Figure at 0xae36940>"
      ]
     },
     "metadata": {},
     "output_type": "display_data"
    }
   ],
   "source": [
    "import networkx as nx\n",
    "import matplotlib.pyplot as plt\n",
    "\n",
    "%matplotlib inline\n",
    "\n",
    "plt.figure(1,figsize=(15,15))"
   ]
  },
  {
   "cell_type": "markdown",
   "metadata": {},
   "source": [
    "### Drawing a graphical representation of Ukraine\n",
    "----"
   ]
  },
  {
   "cell_type": "markdown",
   "metadata": {},
   "source": [
    "In order to get a list of countries and their provinces, the module pycountry is being used. \n",
    "To use this module use: pip install pycountry"
   ]
  },
  {
   "cell_type": "code",
   "execution_count": 3,
   "metadata": {
    "collapsed": false
   },
   "outputs": [
    {
     "name": "stdout",
     "output_type": "stream",
     "text": [
      "[u\"Cherkas'ka Oblast'\", u\"Chernihivs'ka Oblast'\", u\"Chernivets'ka Oblast'\", u\"Dnipropetrovs'ka Oblast'\", u\"Donets'ka Oblast'\", u\"Ivano-Frankivs'ka Oblast'\", u\"Kharkivs'ka Oblast'\", u\"Khersons'ka Oblast'\", u\"Khmel'nyts'ka Oblast'\", u\"Kirovohrads'ka Oblast'\", u\"Ky\\xefvs'ka Oblast'\", u\"Ky\\xefvs'ka mis'ka rada\", u\"L'vivs'ka Oblast'\", u\"Luhans'ka Oblast'\", u\"Mykola\\xefvs'ka Oblast'\", u\"Odes'ka Oblast'\", u\"Poltavs'ka Oblast'\", u'Respublika Krym', u\"Rivnens'ka Oblast'\", u'Sevastopol', u\"Sums 'ka Oblast'\", u\"Ternopil's'ka Oblast'\", u\"Vinnyts'ka Oblast'\", u\"Volyns'ka Oblast'\", u\"Zakarpats'ka Oblast'\", u\"Zaporiz'ka Oblast'\", u\"Zhytomyrs'ka Oblast'\"]\n"
     ]
    },
    {
     "ename": "NameError",
     "evalue": "name 'nx' is not defined",
     "output_type": "error",
     "traceback": [
      "\u001b[0;31m---------------------------------------------------------------------------\u001b[0m",
      "\u001b[0;31mNameError\u001b[0m                                 Traceback (most recent call last)",
      "\u001b[0;32m<ipython-input-3-78e47eb7a2fb>\u001b[0m in \u001b[0;36m<module>\u001b[0;34m()\u001b[0m\n\u001b[1;32m      9\u001b[0m \u001b[1;32mprint\u001b[0m \u001b[0msorted\u001b[0m\u001b[1;33m(\u001b[0m\u001b[0mnames\u001b[0m\u001b[1;33m)\u001b[0m\u001b[1;33m\u001b[0m\u001b[0m\n\u001b[1;32m     10\u001b[0m \u001b[1;33m\u001b[0m\u001b[0m\n\u001b[0;32m---> 11\u001b[0;31m \u001b[0mG\u001b[0m \u001b[1;33m=\u001b[0m \u001b[0mnx\u001b[0m\u001b[1;33m.\u001b[0m\u001b[0mGraph\u001b[0m\u001b[1;33m(\u001b[0m\u001b[1;33m)\u001b[0m\u001b[1;33m\u001b[0m\u001b[0m\n\u001b[0m\u001b[1;32m     12\u001b[0m \u001b[0mG\u001b[0m\u001b[1;33m.\u001b[0m\u001b[0madd_nodes_from\u001b[0m\u001b[1;33m(\u001b[0m\u001b[0mnames\u001b[0m\u001b[1;33m)\u001b[0m\u001b[1;33m\u001b[0m\u001b[0m\n\u001b[1;32m     13\u001b[0m \u001b[0mnx\u001b[0m\u001b[1;33m.\u001b[0m\u001b[0mdraw\u001b[0m\u001b[1;33m(\u001b[0m\u001b[0mG\u001b[0m\u001b[1;33m)\u001b[0m\u001b[1;33m\u001b[0m\u001b[0m\n",
      "\u001b[0;31mNameError\u001b[0m: name 'nx' is not defined"
     ]
    }
   ],
   "source": [
    "import pycountry\n",
    "\n",
    "list(pycountry.countries)[0]\n",
    "ukraine = pycountry.countries.get(name='Ukraine')\n",
    "\n",
    "UA_province = list(pycountry.subdivisions.get(country_code=\"UA\"))\n",
    "\n",
    "names = [x.name for x in UA_province]\n",
    "print sorted(names)\n",
    "\n",
    "G = nx.Graph()\n",
    "G.add_nodes_from(names)\n",
    "nx.draw(G)\n"
   ]
  },
  {
   "cell_type": "code",
   "execution_count": null,
   "metadata": {
    "collapsed": true
   },
   "outputs": [],
   "source": []
  }
 ],
 "metadata": {
  "anaconda-cloud": {},
  "kernelspec": {
   "display_name": "Python 2",
   "language": "python",
   "name": "python2"
  },
  "language_info": {
   "codemirror_mode": {
    "name": "ipython",
    "version": 2
   },
   "file_extension": ".py",
   "mimetype": "text/x-python",
   "name": "python",
   "nbconvert_exporter": "python",
   "pygments_lexer": "ipython2",
   "version": "2.7.13"
  }
 },
 "nbformat": 4,
 "nbformat_minor": 2
}
