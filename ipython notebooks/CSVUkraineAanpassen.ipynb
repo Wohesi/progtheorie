{
 "cells": [
  {
   "cell_type": "code",
   "execution_count": 145,
   "metadata": {},
   "outputs": [
    {
     "name": "stdout",
     "output_type": "stream",
     "text": [
      "['Altai Krai', 'Altai Republic', 'Amur Oblast', 'Arkhangelsk Oblast', 'Astrakhan Oblast', 'Belgorod Oblast', 'Bryansk Oblast', 'Buryat Republic', 'Chechen Republic', 'Chelyabinsk Oblast', 'Chukotka Autonomous Okrug', 'Chuvash Republic', 'Irkutsk Oblast', 'Ivanovo Oblast', 'Jewish Autonomous Oblast', 'Kabardino-Balkar Republic', 'Kaluga Oblast', 'Kamchatka Krai', 'Karachay-Cherkess Republic', 'Kemerovo Oblast', 'Khabarovsk Krai', 'Khanty-Mansi Autonomous Okrug', 'Kirov Oblast', 'Komi Republic', 'Kostroma Oblast', 'Krasnodar Krai', 'Krasnoyarsk Krai', 'Kurgan Oblast', 'Kursk Oblast', 'Leningrad Oblast', 'Lipetsk Oblast', 'Magadan Oblast', 'Mari El Republic', 'Moscow', 'Moscow Oblast', 'Murmansk Oblast', 'Nenets Autonomous Okrug', 'Nizhny Novgorod Oblast', 'Novgorod Oblast', 'Novosibirsk Oblast', 'Omsk Oblast', 'Orenburg Oblast', 'Oryol Oblast', 'Penza Oblast', 'Perm Krai', 'Primorsky Krai', 'Pskov Oblast', 'Republic of Adygea', 'Republic of Bashkortostan', 'Republic of Crimea', 'Republic of Dagestan', 'Republic of Ingushetia', 'Republic of Kalmykia', 'Republic of Karelia', 'Republic of Khakassia', 'Republic of Mordovia', 'Republic of North Ossetia-Alania', 'Republic of Tatarstan', 'Rostov Oblast', 'Ryazan Oblast', 'Saint Petersburg', 'Sakha Republic', 'Sakhalin Oblast', 'Samara Oblast', 'Saratov Oblast', 'Sevastopol', 'Smolensk Oblast', 'Stavropol Krai', 'Sverdlovsk Oblast', 'Tambov Oblast', 'Tomsk Oblast', 'Tula Oblast', 'Tuva Republic', 'Tver Oblast', 'Tyumen Oblast', 'Udmurt Republic', 'Ulyanovsk Oblast', 'Vladimir Oblast', 'Volgograd Oblast', 'Vologda Oblast', 'Voronezh Oblast', 'Yamalo-Nenets Autonomous Okrug', 'Yaroslavl Oblast', 'Zabaykalsky Krai']\n"
     ]
    }
   ],
   "source": [
    "import pandas as pd\n",
    "import csv\n",
    "\n",
    "with open(\"../csv-borders/RussiaCompleteDataset.csv\") as csvfile:\n",
    "    russiaFile = csv.reader(csvfile)   \n",
    "    subjectsWithBorders = [pair for pair in russiaFile][1:]\n",
    "    subjectNames1 = list(set([x[0] for x in subjectsWithBorders]))\n",
    "\n",
    "(subjectsWithBorders.extend([[y, x] for x, y in subjectsWithBorders if [y, x] not in subjectsWithBorders]))\n",
    "subjectNames = list(set([x[0] for x in subjectsWithBorders]))\n",
    "print(sorted(subjectNames1))\n",
    "\n",
    "#len(subjectsWithBorders)\n",
    "# df = pd.DataFrame(subjectsWithBorders)\n",
    "# df.to_csv('list.csv', index=False)\n",
    "\n",
    "#subjectNames[:10]"
   ]
  },
  {
   "cell_type": "code",
   "execution_count": 146,
   "metadata": {},
   "outputs": [
    {
     "name": "stdout",
     "output_type": "stream",
     "text": [
      "['Abzelilovsky District', 'Aktobe Region', 'Alaska', 'Altai Krai', 'Altai Republic', 'Alūksne municipality', 'Amur Oblast', 'Arkhangelsk Oblast', 'Arkhangelsky District', 'Askinsky District', 'Astrakhan Oblast', 'Atyrau Province', 'Autonomous Republic of Crimea', 'Bakalinsky District', 'Bakhchysarai Raion', 'Bashkir Autonomous Soviet Socialist Republic', 'Bayan-Ölgii Province', 'Baymaksky District', 'Belgorod Oblast', 'Belokataysky District', 'Beloretsky District', 'Bizhbulyaksky District', 'Bryansk Oblast', 'Bulgan Province', 'Buryat Republic', 'Central Volga Krai', 'Chechen Republic', 'Chelyabinsk Oblast', 'Chernihiv Oblast', 'Chita Oblast', 'Chukotka Autonomous Okrug', 'Chuvash Republic', 'Donetsk Oblast', 'Dornod Province', 'East Kazakhstan Region', 'Fyodorovsky District, Republic of Bashkortostan', 'Gatchinsky District', 'Gomel Region', 'Gornozavodsk', 'Heilongjiang', 'Hokkaidō Prefecture', 'Ida-Viru County', 'Iglinsky District', 'Inner Mongolia', 'Irkutsk Oblast', 'Ivanovo Oblast', 'Jewish Autonomous Oblast', 'Jilin', 'Kabardino-Balkar Republic', 'Kainuu', 'Kaliningrad Oblast', 'Kaluga Oblast', 'Kamchatka Krai', 'Karachay-Cherkess Republic', 'Kemerovo Oblast', 'Khabarovsk Krai', 'Khanty-Mansi Autonomous Okrug', 'Kharkiv Oblast', 'Khaybullinsky District', 'Khentii Province', 'Khövsgöl Province', 'Kiginsky District', 'Kirov Oblast', 'Komi Republic', 'Kostanay Region', 'Kostroma Oblast', 'Krasnodar Krai', 'Krasnoyarsk Krai', 'Kurgan Oblast', 'Kursk Oblast', 'Kymenlaakso', 'Lapland', 'Leningrad Oblast', 'Lipetsk Oblast', 'Luhansk Oblast', 'Magadan Oblast', 'Mari El Republic', 'Mechetlinsky District', 'Miyakinsky District', 'Mogilev Region', 'Moscow', 'Moscow Oblast', 'Murmansk Oblast', 'Nenets Autonomous Okrug', 'Nizhny Novgorod', 'Nizhny Novgorod Oblast', 'North Karelia', 'North Kazakhstan Province', 'Northern Ostrobothnia', 'Novgorod Oblast', 'Novosibirsk Oblast', 'Nurimanovsky District', 'Omsk Oblast', 'Orenburg Oblast', 'Oryol Oblast', 'Pavlodar Province', 'Penza Oblast', 'Perm Krai', 'Primorsky Krai', 'Pskov Oblast', 'Rason', 'Republic of Adygea', 'Republic of Bashkortostan', 'Republic of Crimea', 'Republic of Dagestan', 'Republic of Ingushetia', 'Republic of Kalmykia', 'Republic of Karelia', 'Republic of Khakassia', 'Republic of Mordovia', 'Republic of North Ossetia-Alania', 'Republic of Tatarstan', 'Rostov Oblast', 'Ryazan Oblast', 'Saint Petersburg', 'Sakha Republic', 'Sakhalin Oblast', 'Salavatsky District', 'Samara Oblast', 'Saratov Oblast', 'Selenge Province', 'Sevastopol', 'Smolensk Oblast', 'South Karelia', 'Stavropol Krai', 'Sumy Oblast', 'Sverdlovsk Oblast', 'Tambov Oblast', 'Tatar Autonomous Soviet Socialist Republic', 'Tatyshlinsky District', 'Tomsk Oblast', 'Tula Oblast', 'Tuva Republic', 'Tuymazinsky District', 'Tver Oblast', 'Tyumen Oblast', 'Udmurt Republic', 'Ulyanovsk Oblast', 'Uvs Province', 'Vitebsk Region', 'Vladimir Oblast', 'Volgograd Oblast', 'Vologda Oblast', 'Voronezh Oblast', 'West Kazakhstan Province', 'Xinjiang', 'Yamalo-Nenets Autonomous Okrug', 'Yanaulsky District', 'Yaroslavl Oblast', 'Zabaykalsky Krai', 'Zavkhan Province']\n"
     ]
    }
   ],
   "source": [
    "print(sorted(subjectNames))"
   ]
  },
  {
   "cell_type": "code",
   "execution_count": 17,
   "metadata": {},
   "outputs": [
    {
     "data": {
      "text/plain": [
       "'Rostov Oblast'"
      ]
     },
     "execution_count": 17,
     "metadata": {},
     "output_type": "execute_result"
    }
   ],
   "source": [
    "subjectsWithBorders[0][1]"
   ]
  },
  {
   "cell_type": "code",
   "execution_count": 128,
   "metadata": {},
   "outputs": [
    {
     "data": {
      "text/plain": [
       "596"
      ]
     },
     "execution_count": 128,
     "metadata": {},
     "output_type": "execute_result"
    }
   ],
   "source": [
    "subject"
   ]
  },
  {
   "cell_type": "code",
   "execution_count": null,
   "metadata": {
    "collapsed": true
   },
   "outputs": [],
   "source": []
  }
 ],
 "metadata": {
  "kernelspec": {
   "display_name": "Python 3",
   "language": "python",
   "name": "python3"
  },
  "language_info": {
   "codemirror_mode": {
    "name": "ipython",
    "version": 3
   },
   "file_extension": ".py",
   "mimetype": "text/x-python",
   "name": "python",
   "nbconvert_exporter": "python",
   "pygments_lexer": "ipython3",
   "version": "3.5.4"
  }
 },
 "nbformat": 4,
 "nbformat_minor": 2
}
